{
 "cells": [
  {
   "cell_type": "markdown",
   "metadata": {},
   "source": [
    "# Step 2 - Database Engineering\n",
    "\n",
    "Create a Jupyter Notebook called database_engineering.ipynb and use this to complete all of your Database Engineering work.\n",
    "\n",
    "    Use Pandas to read your cleaned measurements and stations CSV data.\n",
    "    Use the engine and connection string to create a database called hawaii.sqlite.\n",
    "    Use declarative_base and create ORM classes for each table.\n",
    "        You will need a class for Measurement and for Station.\n",
    "        Make sure to define your primary keys.\n",
    "    Once you have your ORM classes defined, create the tables in the database using create_all.\n"
   ]
  },
  {
   "cell_type": "code",
   "execution_count": 71,
   "metadata": {},
   "outputs": [],
   "source": [
    "import pandas as pd\n",
    "import sqlalchemy\n",
    "from sqlalchemy import create_engine, Column, Integer, String, Float\n",
    "from sqlalchemy.ext.declarative import declarative_base\n",
    "from sqlalchemy.orm import Session, relation, sessionmaker"
   ]
  },
  {
   "cell_type": "code",
   "execution_count": 72,
   "metadata": {},
   "outputs": [],
   "source": [
    "!rm Resources/hawaii.sqlite"
   ]
  },
  {
   "cell_type": "code",
   "execution_count": 73,
   "metadata": {},
   "outputs": [],
   "source": [
    "# Use Pandas to read your cleaned measurements and stations CSV data.\n",
    "\n",
    "data_measurements = \"Resources/clean_data_measurements_zero.csv\"\n",
    "data_stations = \"Resources/clean_data_stations.csv\""
   ]
  },
  {
   "cell_type": "code",
   "execution_count": 74,
   "metadata": {},
   "outputs": [],
   "source": [
    "# Use the engine and connection string to create a database called hawaii.sqlite.\n",
    "engine = create_engine(\"sqlite:///Resources/hawaii.sqlite\")"
   ]
  },
  {
   "cell_type": "code",
   "execution_count": 75,
   "metadata": {},
   "outputs": [],
   "source": [
    "Base = declarative_base()"
   ]
  },
  {
   "cell_type": "code",
   "execution_count": 76,
   "metadata": {},
   "outputs": [],
   "source": [
    "# Use declarative_base and create ORM classes for each table.\n",
    "#     You will need a class for Measurement and for Station.\n",
    "#     Make sure to define your primary keys.\n",
    "class Measurement(Base):\n",
    "    __tablename__= \"Measurement\"\n",
    "    \n",
    "    id = Column(Integer, primary_key=True)\n",
    "    station = Column(String)\n",
    "    date = Column(String)\n",
    "    prcp = Column(Float)\n",
    "    tobs = Column(Integer)\n",
    "\n",
    "class Station(Base):\n",
    "    __tablename__= \"Station\"\n",
    "    \n",
    "    id = Column(Integer, primary_key=True)\n",
    "    station = Column(String)\n",
    "    name = Column(String)\n",
    "    latitude = Column(Float)\n",
    "    longitude = Column(Float)\n",
    "    elevation = Column(Float)\n",
    "    "
   ]
  },
  {
   "cell_type": "code",
   "execution_count": 77,
   "metadata": {},
   "outputs": [],
   "source": [
    "conn = engine.connect()\n",
    "\n",
    "# Once you have your ORM classes defined, create the tables in the database using create_all.\n",
    "Base.metadata.create_all(conn)"
   ]
  },
  {
   "cell_type": "code",
   "execution_count": 78,
   "metadata": {},
   "outputs": [
    {
     "data": {
      "text/plain": [
       "['Measurement', 'Station']"
      ]
     },
     "execution_count": 78,
     "metadata": {},
     "output_type": "execute_result"
    }
   ],
   "source": [
    "engine.table_names()"
   ]
  },
  {
   "cell_type": "code",
   "execution_count": 79,
   "metadata": {},
   "outputs": [],
   "source": [
    "#Read CSV files as DF\n",
    "data_measurements_df = pd.read_csv(data_measurements)\n",
    "data_stations_df = pd.read_csv(data_stations)"
   ]
  },
  {
   "cell_type": "code",
   "execution_count": 80,
   "metadata": {},
   "outputs": [],
   "source": [
    "#Insert DF into sql\n",
    "data_measurements_df.to_sql('Measurement', engine, index_label='id', if_exists='append')\n",
    "data_stations_df.to_sql('Station', engine, index_label='id', if_exists='append')"
   ]
  },
  {
   "cell_type": "code",
   "execution_count": null,
   "metadata": {},
   "outputs": [],
   "source": []
  }
 ],
 "metadata": {
  "kernelspec": {
   "display_name": "Python 3",
   "language": "python",
   "name": "python3"
  },
  "language_info": {
   "codemirror_mode": {
    "name": "ipython",
    "version": 3
   },
   "file_extension": ".py",
   "mimetype": "text/x-python",
   "name": "python",
   "nbconvert_exporter": "python",
   "pygments_lexer": "ipython3",
   "version": "3.6.4"
  }
 },
 "nbformat": 4,
 "nbformat_minor": 2
}
